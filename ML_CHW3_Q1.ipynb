{
  "cells": [
    {
      "cell_type": "markdown",
      "metadata": {
        "id": "view-in-github",
        "colab_type": "text"
      },
      "source": [
        "<a href=\"https://colab.research.google.com/github/zghayour/ML_CHW03/blob/main/ML_CHW3_Q1.ipynb\" target=\"_parent\"><img src=\"https://colab.research.google.com/assets/colab-badge.svg\" alt=\"Open In Colab\"/></a>"
      ]
    },
    {
      "cell_type": "markdown",
      "id": "1b46fe41",
      "metadata": {
        "id": "1b46fe41"
      },
      "source": [
        "<h1 align=\"center\">Introduction to Machine Learning - Course Code: 25737</h1>\n",
        "<h4 align=\"center\">Instructor: Dr. Amiri</h4>\n",
        "<h4 align=\"center\">Sharif University of Technology, Spring 2024</h4>\n",
        "<h4 align=\"center\">Computer Assignment 3</h4>\n",
        "<h4 align=\"center\">\n",
        "\n",
        "Question 1\n",
        "\n",
        "</h4>"
      ]
    },
    {
      "cell_type": "markdown",
      "id": "24a0fc13",
      "metadata": {
        "id": "24a0fc13"
      },
      "source": [
        "# Personal Data"
      ]
    },
    {
      "cell_type": "code",
      "execution_count": 2,
      "id": "44babb65",
      "metadata": {
        "id": "44babb65"
      },
      "outputs": [],
      "source": [
        "# Set your student number\n",
        "student_number = 400101689\n",
        "Name = 'Zahra'\n",
        "Last_Name = 'GhayourHallaj'"
      ]
    },
    {
      "cell_type": "markdown",
      "id": "ca4a337a",
      "metadata": {
        "id": "ca4a337a"
      },
      "source": [
        "# Rules\n",
        "- You are not allowed to add or remove cells. You **must use the provided space to write your code**. If you don't follow this rule, **your Practical Assignment won't be graded**.  \n",
        "\n",
        "- Collaboration and using the internet is allowed, but your code **must be written by yourself**. **Copying code** from each other or from available resources will result in a **zero score for the assignment**.\n",
        "\n",
        "- You are not allowed to use `torch.nn`, `torch.optim` and any activation function and loss function implemented in torch."
      ]
    },
    {
      "cell_type": "code",
      "execution_count": 3,
      "id": "12b76789",
      "metadata": {
        "id": "12b76789"
      },
      "outputs": [],
      "source": [
        "# !pip install numpy\n",
        "# !pip install matplotlib\n",
        "# !pip install torchvision\n",
        "# !pip install torch"
      ]
    },
    {
      "cell_type": "markdown",
      "id": "886188c7",
      "metadata": {
        "id": "886188c7"
      },
      "source": [
        "## Importing Libraries"
      ]
    },
    {
      "cell_type": "code",
      "execution_count": 4,
      "id": "55a0adcc",
      "metadata": {
        "id": "55a0adcc"
      },
      "outputs": [],
      "source": [
        "import torch\n",
        "from torchvision.datasets import FashionMNIST\n",
        "from torchvision import transforms\n",
        "from torch.utils.data import DataLoader\n",
        "import torch.nn as nn\n",
        "\n",
        "import numpy as np\n",
        "from matplotlib import pyplot as plt\n",
        "from typing import Dict"
      ]
    },
    {
      "cell_type": "markdown",
      "id": "18510868",
      "metadata": {
        "id": "18510868"
      },
      "source": [
        "## Datasets and Dataloaders\n",
        "\n",
        "Here, we download and load the train and test `FashionMNIST` dataset with the desired transforms. Then, we define the dataloaders for `train` and `test`."
      ]
    },
    {
      "cell_type": "code",
      "execution_count": 5,
      "id": "dc8759e2",
      "metadata": {
        "id": "dc8759e2",
        "colab": {
          "base_uri": "https://localhost:8080/"
        },
        "outputId": "3faed7b9-da5e-4230-eb0e-da996c97a4c9"
      },
      "outputs": [
        {
          "output_type": "stream",
          "name": "stdout",
          "text": [
            "Downloading http://fashion-mnist.s3-website.eu-central-1.amazonaws.com/train-images-idx3-ubyte.gz\n",
            "Downloading http://fashion-mnist.s3-website.eu-central-1.amazonaws.com/train-images-idx3-ubyte.gz to ./FashionMNIST/raw/train-images-idx3-ubyte.gz\n"
          ]
        },
        {
          "output_type": "stream",
          "name": "stderr",
          "text": [
            "100%|██████████| 26421880/26421880 [00:06<00:00, 3984737.84it/s]\n"
          ]
        },
        {
          "output_type": "stream",
          "name": "stdout",
          "text": [
            "Extracting ./FashionMNIST/raw/train-images-idx3-ubyte.gz to ./FashionMNIST/raw\n",
            "\n",
            "Downloading http://fashion-mnist.s3-website.eu-central-1.amazonaws.com/train-labels-idx1-ubyte.gz\n",
            "Downloading http://fashion-mnist.s3-website.eu-central-1.amazonaws.com/train-labels-idx1-ubyte.gz to ./FashionMNIST/raw/train-labels-idx1-ubyte.gz\n"
          ]
        },
        {
          "output_type": "stream",
          "name": "stderr",
          "text": [
            "100%|██████████| 29515/29515 [00:00<00:00, 149095.49it/s]\n"
          ]
        },
        {
          "output_type": "stream",
          "name": "stdout",
          "text": [
            "Extracting ./FashionMNIST/raw/train-labels-idx1-ubyte.gz to ./FashionMNIST/raw\n",
            "\n",
            "Downloading http://fashion-mnist.s3-website.eu-central-1.amazonaws.com/t10k-images-idx3-ubyte.gz\n",
            "Downloading http://fashion-mnist.s3-website.eu-central-1.amazonaws.com/t10k-images-idx3-ubyte.gz to ./FashionMNIST/raw/t10k-images-idx3-ubyte.gz\n"
          ]
        },
        {
          "output_type": "stream",
          "name": "stderr",
          "text": [
            "100%|██████████| 4422102/4422102 [00:08<00:00, 498652.61it/s] \n"
          ]
        },
        {
          "output_type": "stream",
          "name": "stdout",
          "text": [
            "Extracting ./FashionMNIST/raw/t10k-images-idx3-ubyte.gz to ./FashionMNIST/raw\n",
            "\n",
            "Downloading http://fashion-mnist.s3-website.eu-central-1.amazonaws.com/t10k-labels-idx1-ubyte.gz\n",
            "Downloading http://fashion-mnist.s3-website.eu-central-1.amazonaws.com/t10k-labels-idx1-ubyte.gz to ./FashionMNIST/raw/t10k-labels-idx1-ubyte.gz\n"
          ]
        },
        {
          "output_type": "stream",
          "name": "stderr",
          "text": [
            "100%|██████████| 5148/5148 [00:00<00:00, 6876521.34it/s]"
          ]
        },
        {
          "output_type": "stream",
          "name": "stdout",
          "text": [
            "Extracting ./FashionMNIST/raw/t10k-labels-idx1-ubyte.gz to ./FashionMNIST/raw\n",
            "\n"
          ]
        },
        {
          "output_type": "stream",
          "name": "stderr",
          "text": [
            "\n"
          ]
        }
      ],
      "source": [
        "train_set = FashionMNIST(root='.', train=True, download=True, transform=transforms.ToTensor())\n",
        "test_set = FashionMNIST(root='.', train=False, download=True, transform=transforms.ToTensor())"
      ]
    },
    {
      "cell_type": "markdown",
      "id": "5df47fcb",
      "metadata": {
        "id": "5df47fcb"
      },
      "source": [
        "\n",
        "Here you have to calculate the number of classes amd input dimention of the first layer (how many pixels does each image have?)."
      ]
    },
    {
      "cell_type": "code",
      "execution_count": 6,
      "id": "8f6763e6",
      "metadata": {
        "colab": {
          "base_uri": "https://localhost:8080/"
        },
        "id": "8f6763e6",
        "outputId": "e1df34fd-4fcc-4deb-bdde-d46314b2df5e"
      },
      "outputs": [
        {
          "output_type": "stream",
          "name": "stdout",
          "text": [
            "['T-shirt/top', 'Trouser', 'Pullover', 'Dress', 'Coat', 'Sandal', 'Shirt', 'Sneaker', 'Bag', 'Ankle boot']\n",
            "number of classes: 10\n",
            "Input dimension of the first layer (pixels per image): 784\n"
          ]
        }
      ],
      "source": [
        "## FILL HERE\n",
        "print(train_set.classes)\n",
        "num_classes=len(train_set.classes)\n",
        "print(\"number of classes:\",num_classes)\n",
        "\n",
        "# Get the shape of a single image\n",
        "sample_image, _ = train_set[0]\n",
        "num_channels, height, width = sample_image.shape\n",
        "# Calculate the total number of pixels\n",
        "input_dim = num_channels * height * width\n",
        "print(f\"Input dimension of the first layer (pixels per image): {input_dim}\")"
      ]
    },
    {
      "cell_type": "code",
      "execution_count": 7,
      "id": "c695ff60",
      "metadata": {
        "id": "c695ff60"
      },
      "outputs": [],
      "source": [
        "train_loader = DataLoader(train_set, 64, shuffle=True)\n",
        "test_loader = DataLoader(test_set, 64, shuffle=True)"
      ]
    },
    {
      "cell_type": "markdown",
      "id": "f9dac6c2",
      "metadata": {
        "id": "f9dac6c2"
      },
      "source": [
        "## Visualization\n",
        "\n",
        "Visualize 1 random image from each class by using `plt.subplots`"
      ]
    },
    {
      "cell_type": "code",
      "execution_count": 8,
      "id": "e3d6b0c1",
      "metadata": {
        "colab": {
          "base_uri": "https://localhost:8080/",
          "height": 157
        },
        "id": "e3d6b0c1",
        "outputId": "8e694111-b307-4f28-e214-d7413725c4ac"
      },
      "outputs": [
        {
          "output_type": "display_data",
          "data": {
            "text/plain": [
              "<Figure size 1500x200 with 10 Axes>"
            ],
            "image/png": "[encoded data removed]"
          },
          "metadata": {}
        }
      ],
      "source": [
        "import random\n",
        "# Create a dictionary to store class names (optional)\n",
        "class_names = {\n",
        "    0: \"T-shirt/top\",\n",
        "    1: \"Trouser\",\n",
        "    2: \"Pullover\",\n",
        "    3: \"Dress\",\n",
        "    4: \"Coat\",\n",
        "    5: \"Sandal\",\n",
        "    6: \"Shirt\",\n",
        "    7: \"Sneaker\",\n",
        "    8: \"Bag\",\n",
        "    9: \"Ankle boot\"\n",
        "}\n",
        "\n",
        "# Create subplots for each class\n",
        "fig, axs = plt.subplots(1, 10, figsize=(15, 2))\n",
        "\n",
        "# Randomly select one image from each class\n",
        "for class_idx in range(10):\n",
        "    class_samples = [i for i, (_, label) in enumerate(train_set) if label == class_idx]\n",
        "    random_sample_idx = random.choice(class_samples)\n",
        "    image, _ = train_set[random_sample_idx]\n",
        "    image = image.squeeze().numpy()  # Remove the channel dimension\n",
        "\n",
        "    # Display the image\n",
        "    axs[class_idx].imshow(image, cmap='gray')\n",
        "    axs[class_idx].set_title(class_names[class_idx])\n",
        "    axs[class_idx].axis('off')  # Hide axes\n",
        "\n",
        "plt.show()\n"
      ]
    },
    {
      "cell_type": "markdown",
      "id": "a94c5aba",
      "metadata": {
        "id": "a94c5aba"
      },
      "source": [
        "## Initializing model's parameters\n",
        "\n",
        "In this part, we create the model and initialize its parameters and store the values of these parameters in the variable `parameters` which is a dictionary including the weigths and biases of each layer."
      ]
    },
    {
      "cell_type": "code",
      "execution_count": 9,
      "id": "e6d40952",
      "metadata": {
        "id": "e6d40952"
      },
      "outputs": [],
      "source": [
        "def add_linear_layer(parameters: dict, shape, device, i=None):\n",
        "    \"\"\"\n",
        "    This function adds parameters of a linear unit of shape `shape` to the `parameters` dictionary.\n",
        "    \"\"\"\n",
        "    n_in, n_out = shape\n",
        "    with torch.no_grad():\n",
        "        w = torch.zeros(*shape, device=device)\n",
        "        # kaiming initialization for ReLU activations:\n",
        "        bound = 1 / np.sqrt(n_in).item()\n",
        "        w.uniform_(-bound, bound)\n",
        "        b = torch.zeros(n_out, device=device)  # no need to (1, n_out). it will broadcast itself.\n",
        "    w.requires_grad = True\n",
        "    b.requires_grad = True\n",
        "    # `i` is used to give numbers to parameter names\n",
        "    parameters.update({f'w{i}': w, f'b{i}': b})"
      ]
    },
    {
      "cell_type": "markdown",
      "id": "ce914706",
      "metadata": {
        "id": "ce914706"
      },
      "source": [
        "Now we define our neural network with the given layers and add the weights and biases to the dictionary `parameters`. **You are allowed to modify the values of the layers**."
      ]
    },
    {
      "cell_type": "code",
      "execution_count": 10,
      "id": "8f3867d7",
      "metadata": {
        "colab": {
          "base_uri": "https://localhost:8080/"
        },
        "id": "8f3867d7",
        "outputId": "9804b7d5-d116-4fed-bf57-32937188483b"
      },
      "outputs": [
        {
          "output_type": "execute_result",
          "data": {
            "text/plain": [
              "dict_keys(['w0', 'b0', 'w1', 'b1', 'w2', 'b2', 'w3', 'b3', 'w4', 'b4'])"
            ]
          },
          "metadata": {},
          "execution_count": 10
        }
      ],
      "source": [
        "layers = [\n",
        "    (input_dim, 512),\n",
        "    (512, 256),\n",
        "    (256, 128),\n",
        "    (128, 64),\n",
        "    (64, num_classes)\n",
        "]\n",
        "num_layers = len(layers)\n",
        "parameters = {}\n",
        "\n",
        "# setting the device\n",
        "device = torch.device(\"cuda\" if torch.cuda.is_available() else \"cpu\")\n",
        "\n",
        "# adding the parameters to the dictionary\n",
        "for i, shape in enumerate(layers):\n",
        "    add_linear_layer(parameters, shape, device, i)\n",
        "\n",
        "parameters.keys()"
      ]
    },
    {
      "cell_type": "markdown",
      "id": "8bfd2c8e",
      "metadata": {
        "id": "8bfd2c8e"
      },
      "source": [
        "## Defining the required functions\n",
        "\n",
        "In this section, we should define the required functions. For each of these functions, the inputs and the desired outputs are given and you should write all or part of the function. **You are not allowed to use the activation functions and the loss functions implemented in torch**."
      ]
    },
    {
      "cell_type": "markdown",
      "id": "f3b413d8",
      "metadata": {
        "id": "f3b413d8"
      },
      "source": [
        "Computing affine and relu outputs:"
      ]
    },
    {
      "cell_type": "code",
      "execution_count": 11,
      "id": "1aV6uasHsFn8",
      "metadata": {
        "id": "1aV6uasHsFn8"
      },
      "outputs": [],
      "source": [
        "def affine_forward(x, w, b):\n",
        "    \"\"\"\n",
        "    Computes the output of an affine transformation (linear layer).\n",
        "\n",
        "    Args:\n",
        "        x (torch.Tensor): Input tensor of shape (batch_size, input_dim).\n",
        "        w (torch.Tensor): Weight tensor of shape (input_dim, output_dim).\n",
        "        b (torch.Tensor): Bias tensor of shape (output_dim,).\n",
        "\n",
        "    Returns:\n",
        "        torch.Tensor: Output tensor of shape (batch_size, output_dim).\n",
        "    \"\"\"\n",
        "    # Ensure compatible dimensions\n",
        "    assert x.shape[1] == w.shape[0], \"Input and weight dimensions do not match\"\n",
        "    assert b.shape[0] == w.shape[1], \"Bias and weight dimensions do not match\"\n",
        "\n",
        "    # Compute the affine transformation\n",
        "    output = torch.matmul(x, w) + b\n",
        "\n",
        "    return output\n",
        "\n",
        "def relu(x):\n",
        "    \"\"\"\n",
        "    Applies the ReLU activation function element-wise to the input tensor.\n",
        "\n",
        "    Args:\n",
        "        x (torch.Tensor): Input tensor.\n",
        "\n",
        "    Returns:\n",
        "        torch.Tensor: Output tensor after applying ReLU.\n",
        "    \"\"\"\n",
        "    return torch.max(x, torch.zeros_like(x))  # Element-wise max with zero\n",
        "\n"
      ]
    },
    {
      "cell_type": "markdown",
      "id": "5d9baa5e",
      "metadata": {
        "id": "5d9baa5e"
      },
      "source": [
        "Function `model` returns output of the whole model for the input `x` using the parameters:"
      ]
    },
    {
      "cell_type": "code",
      "execution_count": 12,
      "id": "IbQ3f2q066uv",
      "metadata": {
        "id": "IbQ3f2q066uv"
      },
      "outputs": [],
      "source": [
        "def model(x: torch.Tensor, parameters, num_layers=num_layers):\n",
        "    \"\"\"\n",
        "    Computes the output of the entire neural network model for the input x using the given parameters.\n",
        "\n",
        "    Args:\n",
        "        x (torch.Tensor): Input tensor of shape (batch_size, input_dim).\n",
        "        parameters (dict): Dictionary containing the weights and biases for each layer.\n",
        "        num_layers (int): Number of layers in the neural network.\n",
        "\n",
        "    Returns:\n",
        "        torch.Tensor: Output tensor of shape (batch_size, num_classes).\n",
        "    \"\"\"\n",
        "    # number of batches\n",
        "    B = x.shape[0]\n",
        "    x = x.view(B, -1)\n",
        "\n",
        "    for i in range(num_layers):\n",
        "        w = parameters[f'w{i}']\n",
        "        b = parameters[f'b{i}']\n",
        "        #print(f\"Layer {i} - Input shape: {x.shape}, Weight shape: {w.shape}, Bias shape: {b.shape}\")\n",
        "\n",
        "        # Ensure compatibility of dimensions\n",
        "        assert x.shape[1] == w.shape[0], f\"Input and weight dimensions do not match for layer {i}\"\n",
        "        assert b.shape[0] == w.shape[1], f\"Bias and weight dimensions do not match for layer {i}\"\n",
        "\n",
        "        x = affine_forward(x, w, b) # Matrix multiplication and bias addition\n",
        "        if i < num_layers - 1:  # Apply activation function except for the last layer\n",
        "            x = relu(x)\n",
        "\n",
        "    output = x\n",
        "    return output\n",
        "\n"
      ]
    },
    {
      "cell_type": "markdown",
      "id": "d17a9b4c",
      "metadata": {
        "id": "d17a9b4c"
      },
      "source": [
        "Implementing cross entropy loss:"
      ]
    },
    {
      "cell_type": "code",
      "execution_count": 13,
      "id": "6959621c",
      "metadata": {
        "id": "6959621c"
      },
      "outputs": [],
      "source": [
        "def cross_entropy_loss(scores, y):\n",
        "    n = len(y)\n",
        "\n",
        "    # Convert y to one-hot encoding if necessary\n",
        "    if y.dim() == 1:\n",
        "        y_one_hot = torch.zeros_like(scores)\n",
        "        y_one_hot[range(n), y] = 1\n",
        "    else:\n",
        "        y_one_hot = y\n",
        "\n",
        "    # Compute the logarithm of the predicted probabilities\n",
        "    log_probs = torch.log(scores)\n",
        "\n",
        "    # Compute the cross-entropy loss\n",
        "    loss = -torch.sum(y_one_hot * log_probs) / n\n",
        "\n",
        "    return loss"
      ]
    },
    {
      "cell_type": "markdown",
      "id": "15a589af",
      "metadata": {
        "id": "15a589af"
      },
      "source": [
        "Implementing a function for optimizing paramters and a function to zeroing out their gradients:"
      ]
    },
    {
      "cell_type": "code",
      "execution_count": 14,
      "id": "3121c147",
      "metadata": {
        "id": "3121c147"
      },
      "outputs": [],
      "source": [
        "from typing import Dict\n",
        "import torch\n",
        "\n",
        "def sgd_optimizer(parameters: Dict[str, torch.Tensor], learning_rate=0.001):\n",
        "    \"\"\"\n",
        "    This function gets the parameters and a learning rate. Then updates the parameters using their\n",
        "    gradient. Finally, you should zero the gradients of the parameters after updating\n",
        "    the parameter value.\n",
        "\n",
        "    Args:\n",
        "    - parameters (Dict[str, torch.Tensor]): A dictionary where the key is the parameter name and the value is the parameter tensor.\n",
        "    - learning_rate (float): The learning rate to use for the update.\n",
        "    \"\"\"\n",
        "    for param_name, param_tensor in parameters.items():\n",
        "        if param_tensor.grad is not None:\n",
        "            # Update parameter using gradient descent\n",
        "            param_tensor.data -= learning_rate * param_tensor.grad.data\n",
        "            # Zero the gradients\n",
        "            param_tensor.grad.data.zero_()"
      ]
    },
    {
      "cell_type": "markdown",
      "id": "e17b4cf8",
      "metadata": {
        "id": "e17b4cf8"
      },
      "source": [
        "Training functions:"
      ]
    },
    {
      "cell_type": "code",
      "execution_count": 22,
      "id": "76c0f03b",
      "metadata": {
        "id": "76c0f03b"
      },
      "outputs": [],
      "source": [
        "def train(train_loader, parameters, learning_rate=0.001, epoch=None):\n",
        "    train_loss = 0\n",
        "    N_train = len(train_loader.dataset)\n",
        "\n",
        "    # Creating empty lists Y and Y_pred to store the labels and predictions of each batch\n",
        "    Y = []\n",
        "    Y_pred = []\n",
        "\n",
        "    for i, (x, y) in enumerate(train_loader):\n",
        "        x = x.to(device)\n",
        "        y = y.to(device)\n",
        "        p = model(x, parameters)\n",
        "\n",
        "        # Manual calculation of cross-entropy loss\n",
        "        log_prob = torch.log_softmax(p, dim=-1)\n",
        "        loss = -torch.sum(log_prob[range(len(y)), y]) / len(y)\n",
        "\n",
        "        # Accumulate loss\n",
        "        train_loss += loss.item()\n",
        "\n",
        "        # Backpropagation\n",
        "        loss.backward()\n",
        "        sgd_optimizer(parameters, learning_rate)\n",
        "        y_pred = p.argmax(dim=-1)\n",
        "        Y.append(y.cpu().numpy())\n",
        "        Y_pred.append(y_pred.cpu().numpy())\n",
        "\n",
        "        #print(f\"Epoch [{epoch+1}], Batch [{i+1}], train_Loss: {loss.item():.4f}\")\n",
        "\n",
        "    Y = np.concatenate(Y)\n",
        "    Y_pred = np.concatenate(Y_pred)\n",
        "    acc = accuracy(Y_pred, Y)\n",
        "    print(f'Accuracy of train set in Epoch [{epoch+1}]: {acc:.4f}')\n",
        "    train_loss /= len(train_loader)\n",
        "    return train_loss, acc\n",
        "\n",
        "\n",
        "def validate(loader, epoch=None, set_name=None):\n",
        "    '''This function validates the model on the test dataloader. The function goes through each batch and does\n",
        "    the following on each batch:\n",
        "        1- Calculate the model output\n",
        "        2- Calculate the loss using the model output\n",
        "        3- Print the loss for each batch and epoch\n",
        "\n",
        "    Finally the function calculates the model accuracy.'''\n",
        "    total_loss = 0\n",
        "    N = len(loader.dataset)\n",
        "\n",
        "    # Creating empty lists Y and Y_pred to store the labels and predictions of each batch\n",
        "    Y = []\n",
        "    Y_pred = []\n",
        "    for i, (x, y) in enumerate(loader):\n",
        "        x = x.to(device)\n",
        "        y = y.to(device)\n",
        "        p = model(x, parameters)\n",
        "\n",
        "        # Calculate loss\n",
        "        log_prob = torch.log_softmax(p, dim=-1)\n",
        "        loss = -torch.sum(log_prob[range(len(y)), y]) / len(y)\n",
        "        total_loss += loss.item()\n",
        "\n",
        "        y_pred = p.argmax(dim=-1)\n",
        "        Y.append(y.cpu().numpy())\n",
        "        Y_pred.append(y_pred.cpu().numpy())\n",
        "\n",
        "        #print(f\"Epoch [{epoch+1}], Batch [{i+1}], {set_name}  Loss: {loss.item():.4f}\")\n",
        "\n",
        "    Y = np.concatenate(Y)\n",
        "    Y_pred = np.concatenate(Y_pred)\n",
        "    total_loss /= len(loader)\n",
        "    acc = accuracy(Y_pred, Y)\n",
        "    print(f'Accuracy of {set_name} set in Epoch [{epoch+1}]: {acc:.4f}')\n",
        "\n",
        "    return total_loss, acc"
      ]
    },
    {
      "cell_type": "code",
      "execution_count": 23,
      "id": "87ebb4b6",
      "metadata": {
        "id": "87ebb4b6"
      },
      "outputs": [],
      "source": [
        "train_losses = []\n",
        "test_losses = []\n",
        "train_accuracies = []\n",
        "test_accuracies = []"
      ]
    },
    {
      "cell_type": "code",
      "execution_count": 24,
      "id": "28d4eb0b",
      "metadata": {
        "id": "28d4eb0b"
      },
      "outputs": [],
      "source": [
        "\n",
        "def train_model(dataloaders, num_epochs, learning_rate=0.001, model_name='pytorch_model'):\n",
        "    '''This function trains the model for the number of epochs given and stores, calculates and prints the train\n",
        "    and test losses and accuracies. Finally, it plots the accuracy and loss history for training and test sets'''\n",
        "\n",
        "    train_loader, test_loader = dataloaders\n",
        "    for epoch in range(num_epochs):\n",
        "        train_loss, train_acc = train(train_loader, parameters, learning_rate, epoch)\n",
        "        test_loss, test_acc = validate(test_loader, epoch, \"test\")\n",
        "\n",
        "        train_losses.append(train_loss)\n",
        "        test_losses.append(test_loss)\n",
        "        train_accuracies.append(train_acc)\n",
        "        test_accuracies.append(test_acc)\n",
        "\n",
        "    # Plot the loss history of training and test sets\n",
        "    plt.figure()\n",
        "    plt.plot(range(1, num_epochs + 1), train_losses, label='Training Loss')\n",
        "    plt.plot(range(1, num_epochs + 1), test_losses, label='Test Loss')\n",
        "    plt.xlabel('Epoch')\n",
        "    plt.ylabel('Loss')\n",
        "    plt.legend()\n",
        "    plt.title('Loss History')\n",
        "    plt.show()\n",
        "\n",
        "    # Plot the accuracy history of training and test sets\n",
        "    plt.figure()\n",
        "    plt.plot(range(1, num_epochs + 1), train_accuracies, label='Training Accuracy')\n",
        "    plt.plot(range(1, num_epochs + 1), test_accuracies, label='Test Accuracy')\n",
        "    plt.xlabel('Epoch')\n",
        "    plt.ylabel('Accuracy')\n",
        "    plt.legend()\n",
        "    plt.title('Accuracy History')\n",
        "    plt.show()"
      ]
    },
    {
      "cell_type": "code",
      "execution_count": 25,
      "id": "2ec4bdd2",
      "metadata": {
        "colab": {
          "base_uri": "https://localhost:8080/",
          "height": 1000
        },
        "id": "2ec4bdd2",
        "outputId": "30beb934-b450-48b2-d6db-f9087b55ad9b"
      },
      "outputs": [
        {
          "output_type": "stream",
          "name": "stdout",
          "text": [
            "Accuracy of train set in Epoch [1]: 0.1698\n",
            "Accuracy of test set in Epoch [1]: 0.2013\n",
            "Accuracy of train set in Epoch [2]: 0.2277\n",
            "Accuracy of test set in Epoch [2]: 0.2514\n",
            "Accuracy of train set in Epoch [3]: 0.2632\n",
            "Accuracy of test set in Epoch [3]: 0.2845\n",
            "Accuracy of train set in Epoch [4]: 0.3240\n",
            "Accuracy of test set in Epoch [4]: 0.3582\n",
            "Accuracy of train set in Epoch [5]: 0.4279\n",
            "Accuracy of test set in Epoch [5]: 0.5761\n",
            "Accuracy of train set in Epoch [6]: 0.5518\n",
            "Accuracy of test set in Epoch [6]: 0.5780\n",
            "Accuracy of train set in Epoch [7]: 0.6545\n",
            "Accuracy of test set in Epoch [7]: 0.6893\n",
            "Accuracy of train set in Epoch [8]: 0.7003\n",
            "Accuracy of test set in Epoch [8]: 0.6870\n",
            "Accuracy of train set in Epoch [9]: 0.7177\n",
            "Accuracy of test set in Epoch [9]: 0.7226\n",
            "Accuracy of train set in Epoch [10]: 0.7435\n",
            "Accuracy of test set in Epoch [10]: 0.6193\n",
            "Accuracy of train set in Epoch [11]: 0.7628\n",
            "Accuracy of train set in Epoch [12]: 0.7751\n",
            "Accuracy of test set in Epoch [12]: 0.7747\n",
            "Accuracy of train set in Epoch [13]: 0.7859\n",
            "Accuracy of test set in Epoch [13]: 0.7853\n",
            "Accuracy of train set in Epoch [14]: 0.7922\n",
            "Accuracy of test set in Epoch [14]: 0.7863\n",
            "Accuracy of train set in Epoch [15]: 0.7991\n",
            "Accuracy of test set in Epoch [15]: 0.7863\n",
            "Accuracy of train set in Epoch [16]: 0.8065\n",
            "Accuracy of test set in Epoch [16]: 0.7757\n",
            "Accuracy of train set in Epoch [17]: 0.8100\n",
            "Accuracy of test set in Epoch [17]: 0.8027\n",
            "Accuracy of train set in Epoch [18]: 0.8165\n",
            "Accuracy of test set in Epoch [18]: 0.8129\n",
            "Accuracy of train set in Epoch [19]: 0.8222\n",
            "Accuracy of test set in Epoch [19]: 0.8179\n",
            "Accuracy of train set in Epoch [20]: 0.8299\n",
            "Accuracy of test set in Epoch [20]: 0.8257\n",
            "Accuracy of train set in Epoch [21]: 0.8326\n",
            "Accuracy of test set in Epoch [21]: 0.8290\n",
            "Accuracy of train set in Epoch [22]: 0.8432\n",
            "Accuracy of test set in Epoch [22]: 0.8366\n",
            "Accuracy of train set in Epoch [23]: 0.8478\n",
            "Accuracy of test set in Epoch [23]: 0.8340\n",
            "Accuracy of train set in Epoch [24]: 0.8522\n",
            "Accuracy of test set in Epoch [24]: 0.8424\n",
            "Accuracy of train set in Epoch [25]: 0.8566\n",
            "Accuracy of test set in Epoch [25]: 0.8470\n"
          ]
        },
        {
          "output_type": "display_data",
          "data": {
            "text/plain": [
              "<Figure size 640x480 with 1 Axes>"
            ],
            "image/png": "[encoded data removed]"
          },
          "metadata": {}
        },
        {
          "output_type": "display_data",
          "data": {
            "text/plain": [
              "<Figure size 640x480 with 1 Axes>"
            ],
            "image/png": "[encoded data removed]"
          },
          "metadata": {}
        }
      ],
      "source": [
        "train_model([train_loader, test_loader], num_epochs=25, learning_rate=0.005)"
      ]
    },
    {
      "cell_type": "code",
      "execution_count": 26,
      "id": "ceb5783f",
      "metadata": {
        "colab": {
          "base_uri": "https://localhost:8080/"
        },
        "id": "ceb5783f",
        "outputId": "1b5e7d10-23e9-450c-c799-06a5349c7267"
      },
      "outputs": [
        {
          "output_type": "stream",
          "name": "stdout",
          "text": [
            "Final test accuracy: 0.847\n"
          ]
        }
      ],
      "source": [
        "print(f'Final test accuracy: {test_accuracies[-1]}')"
      ]
    },
    {
      "cell_type": "markdown",
      "id": "a5e128ed",
      "metadata": {
        "id": "a5e128ed"
      },
      "source": [
        "## Visualization of the labels and predictions\n",
        "\n",
        "In this section, you should visual one image from each class and show both the actual label and the predicted label for that image."
      ]
    },
    {
      "cell_type": "code",
      "execution_count": 27,
      "id": "6c0b79fd",
      "metadata": {
        "id": "6c0b79fd"
      },
      "outputs": [],
      "source": [
        "def retrieve_one_image_per_class(loader, model):\n",
        "    image_dict = {}\n",
        "    label_dict = {}\n",
        "\n",
        "    with torch.no_grad():\n",
        "        for data, labels in loader:\n",
        "            data = data.to(device)\n",
        "            labels = labels.to(device)\n",
        "            outputs = model(data, parameters)\n",
        "            _, predictions = torch.max(outputs, 1)\n",
        "\n",
        "            for i in range(len(labels)):\n",
        "                label = labels[i].item()\n",
        "\n",
        "                if label not in image_dict:\n",
        "                    image_dict[label] = data[i].cpu()\n",
        "                    label_dict[label] = (labels[i].item(), predictions[i].item())\n",
        "\n",
        "                if len(image_dict) >= 10:\n",
        "                    return image_dict, label_dict\n",
        "\n",
        "    return image_dict, label_dict\n",
        "\n",
        "def visualize_images(image_dict, label_dict, class_names):\n",
        "    fig, axes = plt.subplots(2, 5, figsize=(12, 6))\n",
        "    axes = axes.flatten()\n",
        "\n",
        "    for i, (label, image) in enumerate(image_dict.items()):\n",
        "        ax = axes[i]\n",
        "        ax.imshow(image.squeeze(), cmap='gray')\n",
        "        actual_label, predicted_label = label_dict[label]\n",
        "        ax.set_title(f'Actual: {class_names[actual_label]}\\nPredicted: {class_names[predicted_label]}')\n",
        "        ax.axis('off')\n",
        "\n",
        "    plt.tight_layout()\n",
        "    plt.show()"
      ]
    },
    {
      "cell_type": "code",
      "source": [
        "    image_dict, label_dict = retrieve_one_image_per_class(test_loader, model)\n",
        "    class_names = test_loader.dataset.classes\n",
        "    visualize_images(image_dict, label_dict, class_names)"
      ],
      "metadata": {
        "colab": {
          "base_uri": "https://localhost:8080/",
          "height": 582
        },
        "id": "tNaP-1O-YLCP",
        "outputId": "08dd27f1-7c60-4c02-9add-e0f6ad836230"
      },
      "id": "tNaP-1O-YLCP",
      "execution_count": 28,
      "outputs": [
        {
          "output_type": "display_data",
          "data": {
            "text/plain": [
              "<Figure size 1200x600 with 10 Axes>"
            ],
            "image/png": "[encoded data removed]"
          },
          "metadata": {}
        }
      ]
    }
  ],
  "metadata": {
    "accelerator": "GPU",
    "colab": {
      "gpuType": "T4",
      "provenance": [],
      "include_colab_link": true
    },
    "kernelspec": {
      "display_name": "Python 3",
      "name": "python3"
    },
    "language_info": {
      "codemirror_mode": {
        "name": "ipython",
        "version": 3
      },
      "file_extension": ".py",
      "mimetype": "text/x-python",
      "name": "python",
      "nbconvert_exporter": "python",
      "pygments_lexer": "ipython3",
      "version": "3.11.4"
    }
  },
  "nbformat": 4,
  "nbformat_minor": 5
}